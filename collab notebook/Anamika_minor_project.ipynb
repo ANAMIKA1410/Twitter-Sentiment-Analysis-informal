{
  "nbformat": 4,
  "nbformat_minor": 0,
  "metadata": {
    "colab": {
      "provenance": [],
      "authorship_tag": "ABX9TyPpAWrNiuL4ulMINM51pdE1",
      "include_colab_link": true
    },
    "kernelspec": {
      "name": "python3",
      "display_name": "Python 3"
    },
    "language_info": {
      "name": "python"
    }
  },
  "cells": [
    {
      "cell_type": "markdown",
      "metadata": {
        "id": "view-in-github",
        "colab_type": "text"
      },
      "source": [
        "<a href=\"https://colab.research.google.com/github/ANAMIKA1410/Twitter-Sentiment-Analysis-informal/blob/main/collab%20notebook/Anamika_minor_project.ipynb\" target=\"_parent\"><img src=\"https://colab.research.google.com/assets/colab-badge.svg\" alt=\"Open In Colab\"/></a>"
      ]
    },
    {
      "cell_type": "code",
      "execution_count": 1,
      "metadata": {
        "id": "VumzXUqnFQLm"
      },
      "outputs": [],
      "source": [
        "import pandas as pd\n",
        "import numpy as np\n",
        "import matplotlib.pyplot as plt\n",
        "import seaborn as sns\n",
        "pd.set_option('display.max_columns', 100)"
      ]
    },
    {
      "cell_type": "code",
      "source": [
        "twit_data = pd.read_csv('CarPrice_Assignment.csv')\n",
        "car_data.head()"
      ],
      "metadata": {
        "id": "PrUuTtp4FaWe"
      },
      "execution_count": null,
      "outputs": []
    }
  ]
}